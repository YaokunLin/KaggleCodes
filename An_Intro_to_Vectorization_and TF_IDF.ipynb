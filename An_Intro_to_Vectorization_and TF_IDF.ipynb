{
  "nbformat": 4,
  "nbformat_minor": 0,
  "metadata": {
    "colab": {
      "name": "An Intro to Vectorization and TF-IDF.ipynb",
      "provenance": [],
      "authorship_tag": "ABX9TyOdk/zv0eSuxPKNMSUtBgwV",
      "include_colab_link": true
    },
    "kernelspec": {
      "name": "python3",
      "display_name": "Python 3"
    }
  },
  "cells": [
    {
      "cell_type": "markdown",
      "metadata": {
        "id": "view-in-github",
        "colab_type": "text"
      },
      "source": [
        "<a href=\"https://colab.research.google.com/github/YaokunLin/KaggleCodes/blob/main/An_Intro_to_Vectorization_and%C2%A0TF_IDF.ipynb\" target=\"_parent\"><img src=\"https://colab.research.google.com/assets/colab-badge.svg\" alt=\"Open In Colab\"/></a>"
      ]
    },
    {
      "cell_type": "code",
      "metadata": {
        "id": "rmdbKxwcDz91"
      },
      "source": [
        "from sklearn.feature_extraction.text import CountVectorizer\n",
        "vectorizer = CountVectorizer()"
      ],
      "execution_count": null,
      "outputs": []
    },
    {
      "cell_type": "code",
      "metadata": {
        "id": "50tiz88nRxsv"
      },
      "source": [
        "corpus = [\n",
        "    'It is Monday today.',\n",
        "    'It was Sunday yesterday.',\n",
        "    'It will be Tuesday tomorrow.',\n",
        "    'Which day of the week will it be on the day after tomorrow?',\n",
        "]\n",
        "\n",
        "X = vectorizer.fit_transform(corpus)\n",
        "X_array=X.toarray()"
      ],
      "execution_count": null,
      "outputs": []
    },
    {
      "cell_type": "code",
      "metadata": {
        "colab": {
          "base_uri": "https://localhost:8080/"
        },
        "id": "Xzpdr4vxWKdq",
        "outputId": "82888438-e0a2-476a-f7e7-a37563454f12"
      },
      "source": [
        "X"
      ],
      "execution_count": null,
      "outputs": [
        {
          "output_type": "execute_result",
          "data": {
            "text/plain": [
              "<4x18 sparse matrix of type '<class 'numpy.int64'>'\n",
              "\twith 24 stored elements in Compressed Sparse Row format>"
            ]
          },
          "metadata": {
            "tags": []
          },
          "execution_count": 3
        }
      ]
    },
    {
      "cell_type": "code",
      "metadata": {
        "colab": {
          "base_uri": "https://localhost:8080/"
        },
        "id": "PflS1SxcV9Hw",
        "outputId": "51a05c4c-5464-4b00-dd64-45fc059e3512"
      },
      "source": [
        "X_array"
      ],
      "execution_count": null,
      "outputs": [
        {
          "output_type": "execute_result",
          "data": {
            "text/plain": [
              "array([[0, 0, 0, 1, 1, 1, 0, 0, 0, 0, 1, 0, 0, 0, 0, 0, 0, 0],\n",
              "       [0, 0, 0, 0, 1, 0, 0, 0, 1, 0, 0, 0, 0, 1, 0, 0, 0, 1],\n",
              "       [0, 1, 0, 0, 1, 0, 0, 0, 0, 0, 0, 1, 1, 0, 0, 0, 1, 0],\n",
              "       [1, 1, 2, 0, 1, 0, 1, 1, 0, 2, 0, 1, 0, 0, 1, 1, 1, 0]])"
            ]
          },
          "metadata": {
            "tags": []
          },
          "execution_count": 4
        }
      ]
    },
    {
      "cell_type": "code",
      "metadata": {
        "colab": {
          "base_uri": "https://localhost:8080/"
        },
        "id": "qm3aNb8oHftw",
        "outputId": "aa784a5f-0c13-4c2e-e8a3-58714156bf4d"
      },
      "source": [
        "vectorizer.get_feature_names()"
      ],
      "execution_count": null,
      "outputs": [
        {
          "output_type": "execute_result",
          "data": {
            "text/plain": [
              "['after',\n",
              " 'be',\n",
              " 'day',\n",
              " 'is',\n",
              " 'it',\n",
              " 'monday',\n",
              " 'of',\n",
              " 'on',\n",
              " 'sunday',\n",
              " 'the',\n",
              " 'today',\n",
              " 'tomorrow',\n",
              " 'tuesday',\n",
              " 'was',\n",
              " 'week',\n",
              " 'which',\n",
              " 'will',\n",
              " 'yesterday']"
            ]
          },
          "metadata": {
            "tags": []
          },
          "execution_count": 5
        }
      ]
    },
    {
      "cell_type": "code",
      "metadata": {
        "colab": {
          "base_uri": "https://localhost:8080/"
        },
        "id": "DlTdEplMT8Xb",
        "outputId": "39bd6cf8-456d-4185-aed9-3454f1df8713"
      },
      "source": [
        "vectorizer.vocabulary_.get('day')\n",
        "#The converse mapping from feature name to column index is stored in the vocabulary_ attribute of the vectorizer"
      ],
      "execution_count": null,
      "outputs": [
        {
          "output_type": "execute_result",
          "data": {
            "text/plain": [
              "2"
            ]
          },
          "metadata": {
            "tags": []
          },
          "execution_count": 6
        }
      ]
    },
    {
      "cell_type": "code",
      "metadata": {
        "id": "gvcHVi_rmwBp"
      },
      "source": [
        "from sklearn.feature_extraction.text import TfidfTransformer\n",
        "transformer = TfidfTransformer()"
      ],
      "execution_count": null,
      "outputs": []
    },
    {
      "cell_type": "code",
      "metadata": {
        "id": "2JsSjW3YmmPy"
      },
      "source": [
        "count_matrix = [[3, 0, 1],\n",
        "          [2, 0, 0],\n",
        "          [3, 0, 0],\n",
        "          [4, 0, 0],\n",
        "          [3, 2, 0],\n",
        "          [3, 0, 2]]"
      ],
      "execution_count": null,
      "outputs": []
    },
    {
      "cell_type": "code",
      "metadata": {
        "colab": {
          "base_uri": "https://localhost:8080/"
        },
        "id": "IbJGEt_Mm3o6",
        "outputId": "06b9db2a-86ac-41fb-b4cf-1d4420d2abdd"
      },
      "source": [
        "tfidf = transformer.fit_transform(count_matrix)\n",
        "tfidf.toarray()"
      ],
      "execution_count": null,
      "outputs": [
        {
          "output_type": "execute_result",
          "data": {
            "text/plain": [
              "array([[0.85151335, 0.        , 0.52433293],\n",
              "       [1.        , 0.        , 0.        ],\n",
              "       [1.        , 0.        , 0.        ],\n",
              "       [1.        , 0.        , 0.        ],\n",
              "       [0.55422893, 0.83236428, 0.        ],\n",
              "       [0.63035731, 0.        , 0.77630514]])"
            ]
          },
          "metadata": {
            "tags": []
          },
          "execution_count": 10
        }
      ]
    },
    {
      "cell_type": "code",
      "metadata": {
        "colab": {
          "base_uri": "https://localhost:8080/"
        },
        "id": "IPpGOCiXt0wM",
        "outputId": "af2dd2d7-9d77-4d01-d3d1-dc79012f6fc5"
      },
      "source": [
        "transformer.idf_"
      ],
      "execution_count": null,
      "outputs": [
        {
          "output_type": "execute_result",
          "data": {
            "text/plain": [
              "array([1.        , 2.25276297, 1.84729786])"
            ]
          },
          "metadata": {
            "tags": []
          },
          "execution_count": 12
        }
      ]
    }
  ]
}